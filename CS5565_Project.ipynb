{
  "nbformat": 4,
  "nbformat_minor": 0,
  "metadata": {
    "colab": {
      "provenance": [],
      "collapsed_sections": [],
      "authorship_tag": "ABX9TyPON9rP5MK7BErGNRMTrm/m",
      "include_colab_link": true
    },
    "kernelspec": {
      "name": "python3",
      "display_name": "Python 3"
    },
    "language_info": {
      "name": "python"
    }
  },
  "cells": [
    {
      "cell_type": "markdown",
      "metadata": {
        "id": "view-in-github",
        "colab_type": "text"
      },
      "source": [
        "<a href=\"https://colab.research.google.com/github/tkrulewich/MadMansMorris/blob/main/CS5565_Project.ipynb\" target=\"_parent\"><img src=\"https://colab.research.google.com/assets/colab-badge.svg\" alt=\"Open In Colab\"/></a>"
      ]
    },
    {
      "cell_type": "code",
      "execution_count": null,
      "metadata": {
        "id": "adX3N3RKnwp2"
      },
      "outputs": [],
      "source": [
        "#Notebook file for project code\n",
        "#First Draft\n",
        "\n",
        "#Nine Men's Morris aka Madman's Morris"
      ]
    },
    {
      "cell_type": "code",
      "source": [
        "class Game():\n",
        "  EMPTY_SPACE = \"VALID\"\n",
        "  INVALID_SPACES = []\n",
        "  COLUMN_ARRAY = [\"A\", \"B\", \"C\", \"D\", \"E\", \"F\", \"G\"]\n",
        "  ROW_ARRAY = [1,2,3,4,5,6,7]\n",
        "  def __init__(self):\n",
        "    self.unplayed_pieces = 9\n",
        "    self.spaces = []\n",
        "    self.space_state = \"VALID\"\n",
        "    self.white_player = Player()\n",
        "    self.black_player = Player()\n",
        "    \n",
        "  def change_player(self, current_player):\n",
        "    self.current_player = current_player\n",
        "    if self.current_player == self.white_player:\n",
        "      self.current_player == self.black_player\n",
        "    elif self.current_player == self.black_player:\n",
        "      self.current_player == self.white_player\n",
        "    \n",
        "  def getSpace(self, spaceName):\n",
        "    return self.spaces[spaceName].space_state\n",
        "\n",
        "\n",
        "class Player():\n",
        "  def __init__(self):\n",
        "    self.pieces_in_play = 9\n",
        "    self.player_spaces = []\n",
        "  \n",
        "  def place_piece(self, space):\n",
        "    self.space = space\n",
        "    if self.space == Game.EMPTY_SPACE:\n",
        "      self.player_spaces.append(space)\n",
        "    else:\n",
        "      print(\"invalid move, try again\")\n",
        "      Player.place_piece(input())\n",
        "    \n",
        "\n",
        "\n"
      ],
      "metadata": {
        "id": "zTTdXmeAoKC5",
        "colab": {
          "base_uri": "https://localhost:8080/",
          "height": 131
        },
        "outputId": "90db6073-cd82-472d-954a-ca2551020ea3"
      },
      "execution_count": null,
      "outputs": [
        {
          "output_type": "error",
          "ename": "IndentationError",
          "evalue": "ignored",
          "traceback": [
            "\u001b[0;36m  File \u001b[0;32m\"<tokenize>\"\u001b[0;36m, line \u001b[0;32m7\u001b[0m\n\u001b[0;31m    \"\"\" def __init__(self):\u001b[0m\n\u001b[0m    ^\u001b[0m\n\u001b[0;31mIndentationError\u001b[0m\u001b[0;31m:\u001b[0m unindent does not match any outer indentation level\n"
          ]
        }
      ]
    },
    {
      "cell_type": "code",
      "source": [],
      "metadata": {
        "id": "LSTpR6nSoqCK",
        "colab": {
          "base_uri": "https://localhost:8080/"
        },
        "outputId": "0c12c643-572c-498a-adc8-22271b60ff4f"
      },
      "execution_count": null,
      "outputs": [
        {
          "output_type": "stream",
          "name": "stdout",
          "text": [
            "[range(1, 11)]\n"
          ]
        }
      ]
    }
  ]
}