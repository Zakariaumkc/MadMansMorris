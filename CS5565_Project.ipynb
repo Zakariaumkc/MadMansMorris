{
  "nbformat": 4,
  "nbformat_minor": 0,
  "metadata": {
    "colab": {
      "provenance": [],
      "collapsed_sections": [],
      "authorship_tag": "ABX9TyOmvT6qtMw1cMoxjCf90JOV",
      "include_colab_link": true
    },
    "kernelspec": {
      "name": "python3",
      "display_name": "Python 3"
    },
    "language_info": {
      "name": "python"
    }
  },
  "cells": [
    {
      "cell_type": "markdown",
      "metadata": {
        "id": "view-in-github",
        "colab_type": "text"
      },
      "source": [
        "<a href=\"https://colab.research.google.com/github/tkrulewich/MadMansMorris/blob/main/CS5565_Project.ipynb\" target=\"_parent\"><img src=\"https://colab.research.google.com/assets/colab-badge.svg\" alt=\"Open In Colab\"/></a>"
      ]
    },
    {
      "cell_type": "code",
      "execution_count": null,
      "metadata": {
        "id": "adX3N3RKnwp2"
      },
      "outputs": [],
      "source": [
        "#Notebook file for project code\n",
        "#First Draft\n",
        "\n",
        "#Nine Men's Morris aka Madman's Morris"
      ]
    },
    {
      "cell_type": "code",
      "source": [
        "import numpy as np \n",
        "\n",
        "class Game():\n",
        "   \n",
        "  def __init__(self):\n",
        "    self.unplayed_pieces = 9\n",
        "    self.spaces = []\n",
        "    self.space_state = \"VALID\"\n",
        "    self.white_player = Player()\n",
        "    self.black_player = Player()\n",
        "    self.board = np.array([' ' for i in range(49)])\n",
        "    self.board = np.reshape(self.board, (7,7))\n",
        "    self.ROW_ARRAY = [\"A\", \"B\", \"C\", \"D\", \"E\", \"F\", \"G\"]\n",
        "    self.COLUMN_ARRAY = [1, 2, 3, 4, 5, 6, 7]\n",
        "\n",
        "  \n",
        "  def createBoard(self):\n",
        "      for i in range(7):\n",
        "        row = self.ROW_ARRAY[-i-1]\n",
        "        for j in self.COLUMN_ARRAY:\n",
        "          self.board[i][j-1] = (f\"{row},{j}\")\n",
        "\n",
        "      return self.board\n",
        "\n",
        "  def getBoardSpecs(self):\n",
        "    print(f\"Board shape: {np.shape(self.board)}\\n {self.board}\")\n",
        "\n",
        "    \n",
        "  def change_player(self, current_player):\n",
        "    self.current_player = current_player\n",
        "    if self.current_player == self.white_player:\n",
        "      self.current_player == self.black_player\n",
        "    elif self.current_player == self.black_player:\n",
        "      self.current_player == self.white_player\n",
        "    \n",
        "  def getSpace(self, spaceName):\n",
        "    return self.spaces[spaceName].space_state\n",
        "\n",
        "\n",
        "class Player():\n",
        "  def __init__(self):\n",
        "    self.pieces_in_play = 9\n",
        "    self.player_spaces = []\n",
        "  \n",
        "  def place_piece(self, space):\n",
        "    self.space = space\n",
        "    if self.space == Game.EMPTY_SPACE:\n",
        "      self.player_spaces.append(space)\n",
        "    else:\n",
        "      print(\"invalid move, try again\")\n",
        "      Player.place_piece(input())\n",
        "    \n",
        "\n",
        "\n"
      ],
      "metadata": {
        "id": "zTTdXmeAoKC5"
      },
      "execution_count": 37,
      "outputs": []
    },
    {
      "cell_type": "code",
      "source": [
        "game = Game()\n",
        "gameboard = game.createBoard()\n",
        "\n",
        "print(gameboard[1][1])\n",
        "print(gameboard)"
      ],
      "metadata": {
        "id": "LSTpR6nSoqCK",
        "colab": {
          "base_uri": "https://localhost:8080/"
        },
        "outputId": "73a354fa-bba0-463a-8f39-fac49c782e0a"
      },
      "execution_count": 38,
      "outputs": [
        {
          "output_type": "stream",
          "name": "stdout",
          "text": [
            "F\n",
            "[['G' 'G' 'G' 'G' 'G' 'G' 'G']\n",
            " ['F' 'F' 'F' 'F' 'F' 'F' 'F']\n",
            " ['E' 'E' 'E' 'E' 'E' 'E' 'E']\n",
            " ['D' 'D' 'D' 'D' 'D' 'D' 'D']\n",
            " ['C' 'C' 'C' 'C' 'C' 'C' 'C']\n",
            " ['B' 'B' 'B' 'B' 'B' 'B' 'B']\n",
            " ['A' 'A' 'A' 'A' 'A' 'A' 'A']]\n"
          ]
        }
      ]
    },
    {
      "cell_type": "code",
      "source": [],
      "metadata": {
        "id": "G1Kn-gpUq-K-"
      },
      "execution_count": null,
      "outputs": []
    }
  ]
}